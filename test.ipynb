{
 "cells": [
  {
   "cell_type": "code",
   "execution_count": 7,
   "metadata": {},
   "outputs": [],
   "source": [
    "from torch.nn.functional import relu\n",
    "from layers.hyp_layers import *\n",
    "from manifolds.poincare import PoincareBall   \n",
    "\n",
    "poin = PoincareBall()\n",
    "layer = HyperbolicGraphConvolution(poin, 8, 4, 1.0, 1.0, 0.2, relu, 1, 0, 1)"
   ]
  },
  {
   "cell_type": "code",
   "execution_count": 8,
   "metadata": {},
   "outputs": [],
   "source": [
    "x = torch.rand(4, 8)\n",
    "adj = torch.tensor(\n",
    "    [\n",
    "        [1, 1, 0, 0],\n",
    "        [0, 1, 0, 0],\n",
    "        [0, 0, 1, 0],\n",
    "        [0, 0, 0, 1]\n",
    "    ], dtype = torch.float\n",
    ")"
   ]
  },
  {
   "cell_type": "code",
   "execution_count": 9,
   "metadata": {},
   "outputs": [
    {
     "name": "stdout",
     "output_type": "stream",
     "text": [
      "HyperbolicGraphConvolution(\n",
      "  (linear): HypLinear(in_features=8, out_features=4, c=1.0)\n",
      "  (agg): HypAgg(c=1.0)\n",
      "  (hyp_act): HypAct(c_in=1.0, c_out=1.0)\n",
      ")\n"
     ]
    }
   ],
   "source": [
    "print(layer)"
   ]
  },
  {
   "cell_type": "code",
   "execution_count": 10,
   "metadata": {},
   "outputs": [
    {
     "name": "stdout",
     "output_type": "stream",
     "text": [
      "Input x :\n",
      " tensor([[0.8442, 0.5942, 0.0273, 0.5322, 0.7637, 0.0594, 0.9477, 0.5147],\n",
      "        [0.8024, 0.6206, 0.3228, 0.5686, 0.0920, 0.2347, 0.5946, 0.3687],\n",
      "        [0.6677, 0.1336, 0.3035, 0.6204, 0.3562, 0.3030, 0.3433, 0.8185],\n",
      "        [0.4539, 0.7022, 0.4978, 0.5158, 0.6052, 0.7015, 0.5284, 0.8957]]) \n",
      "\n",
      "1.0\n",
      "tensor([[0.0000, 0.9212, 0.3647, 0.0000],\n",
      "        [0.0000, 0.9270, 0.3207, 0.0000],\n",
      "        [0.0000, 0.8717, 0.4794, 0.0000],\n",
      "        [0.0000, 0.9304, 0.3444, 0.0000]])\n"
     ]
    }
   ],
   "source": [
    "print(\"Input x :\\n\", x, \"\\n\")\n",
    "\n",
    "with torch.no_grad() :\n",
    "    out = layer((x, adj))\n",
    "    adj_ = out[1]\n",
    "    out = out[0]\n",
    "\n",
    "print(out)"
   ]
  },
  {
   "cell_type": "code",
   "execution_count": null,
   "metadata": {},
   "outputs": [],
   "source": [
    "with torch.no_grad() :\n",
    "    agg_out = layer.agg(out, adj)\n",
    "\n",
    "print(agg_out)\n",
    "print(agg_out.shape)"
   ]
  },
  {
   "cell_type": "code",
   "execution_count": null,
   "metadata": {},
   "outputs": [],
   "source": [
    "with torch.no_grad() :\n",
    "    act_out = layer.hyp_act(agg_out)\n",
    "\n",
    "print(act_out)\n",
    "print(act_out.shape)"
   ]
  }
 ],
 "metadata": {
  "kernelspec": {
   "display_name": "Python 3",
   "language": "python",
   "name": "python3"
  },
  "language_info": {
   "codemirror_mode": {
    "name": "ipython",
    "version": 3
   },
   "file_extension": ".py",
   "mimetype": "text/x-python",
   "name": "python",
   "nbconvert_exporter": "python",
   "pygments_lexer": "ipython3",
   "version": "3.10.6"
  },
  "orig_nbformat": 4
 },
 "nbformat": 4,
 "nbformat_minor": 2
}
